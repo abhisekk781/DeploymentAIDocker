{
 "cells": [
  {
   "cell_type": "code",
   "execution_count": null,
   "metadata": {},
   "outputs": [],
   "source": [
    "#!pip install webdriver-manager\n",
    "#!pip install selenium\n",
    "#!pip install time"
   ]
  },
  {
   "cell_type": "code",
   "execution_count": null,
   "metadata": {},
   "outputs": [],
   "source": [
    "\n",
    "\n",
    "from selenium import webdriver\n",
    "from webdriver_manager.firefox import GeckoDriverManager\n",
    "from selenium.webdriver.common.by import By\n",
    "from selenium.webdriver.support.ui import WebDriverWait\n",
    "from selenium.webdriver.support import expected_conditions as EC\n",
    "import time\n",
    "firefox_profile = webdriver.FirefoxProfile()\n",
    "firefox_profile.set_preference(\"browser.privatebrowsing.autostart\", True)\n",
    "\n",
    "while(True):\n",
    "    input_string=input(\"Enter song name here: \")\n",
    "    if len(input_string)<=2 or input_string.isdigit()==True:\n",
    "        print('Please type the song name properly')\n",
    "    else: \n",
    "        break\n",
    "   \n",
    "\n",
    "\n",
    "while(True):\n",
    "    download_type=input('''\n",
    "     Type '1' for mp3 format\n",
    "     Type '2' for mp4 format\n",
    "     ''')\n",
    "    if str(download_type)=='1' or str(download_type)=='2':\n",
    "         break\n",
    "    else:\n",
    "       print(\"Input must be 1 or 2\")\n",
    "    \n",
    "        \n",
    "\n",
    "\n",
    "browser = webdriver.Firefox(executable_path=GeckoDriverManager().install(),firefox_profile=firefox_profile)\n",
    "browser.get(\"https://www.youtube.com/\")\n",
    "browser.maximize_window()\n",
    "browser.implicitly_wait(3)\n",
    "\n",
    "element = browser.find_element_by_css_selector(\".style-scope:nth-child(1) > #items > .style-scope:nth-child(3) > #endpoint .title\") # opens subscriptions\n",
    "element.click()\n",
    "time.sleep(2) # wait for page to load before finding it\n",
    "searchelement = browser.find_element_by_css_selector('input#search') # search bar\n",
    "\n",
    "#here if statement\n",
    "if download_type=='2':\n",
    "    searchelement.send_keys(str(input_string) + \" full video song\")\n",
    "else:\n",
    "    searchelement.send_keys(str(input_string) + \" full song lyrics\")\n",
    "    \n",
    "searchelement.submit()\n",
    "browser.find_element_by_css_selector(\"yt-icon.ytd-searchbox\").click()\n",
    "\n",
    "\n",
    "browser.find_element_by_xpath('/html/body/ytd-app/div/ytd-page-manager/ytd-search/div[1]/ytd-two-column-search-results-renderer/div/ytd-section-list-renderer/div[2]/ytd-item-section-renderer/div[3]/ytd-video-renderer[1]/div[1]/div').click()\n",
    "curr_str=browser.current_url\n",
    "time.sleep(2)\n",
    "browser.get('https://ytmp3.cc/en13/')\n",
    "time.sleep(3)\n",
    "\n",
    "#here if statment for mp4\n",
    "if download_type=='2':\n",
    "    browser.find_element_by_css_selector('#mp4').click()\n",
    "else:\n",
    "    pass\n",
    "\n",
    "input_element=browser.find_element_by_css_selector('#input')\n",
    "input_element.send_keys(curr_str)\n",
    "input_element.submit()\n",
    "\n",
    "wait = WebDriverWait(browser, 90)\n",
    "element = wait.until(EC.element_to_be_clickable((By.CSS_SELECTOR, '#buttons > a:nth-child(1)')))\n",
    "time.sleep(2)\n",
    "element.find_element_by_xpath('/html/body/div[2]/div[1]/div[1]/div[3]/a[1]').click()\n"
   ]
  },
  {
   "cell_type": "code",
   "execution_count": 3,
   "metadata": {},
   "outputs": [
    {
     "name": "stdin",
     "output_type": "stream",
     "text": [
      "Enter song name here:  atif aslam gulabi ankhein\n",
      "\n",
      "     Type '1' for mp3 format\n",
      "     Type '2' for mp4 format\n",
      "      2\n"
     ]
    },
    {
     "name": "stderr",
     "output_type": "stream",
     "text": [
      "[WDM] - Looking for [geckodriver v0.26.0 macos] driver in cache \n",
      "INFO:WDM:Looking for [geckodriver v0.26.0 macos] driver in cache \n",
      "[WDM] - File found in cache by path [/Users/abhisekkumar/.wdm/drivers/geckodriver/v0.26.0/macos/geckodriver]\n",
      "INFO:WDM:File found in cache by path [/Users/abhisekkumar/.wdm/drivers/geckodriver/v0.26.0/macos/geckodriver]\n"
     ]
    }
   ],
   "source": [
    "%run youtube_selenium.py"
   ]
  },
  {
   "cell_type": "code",
   "execution_count": null,
   "metadata": {},
   "outputs": [],
   "source": []
  }
 ],
 "metadata": {
  "kernelspec": {
   "display_name": "Python 3",
   "language": "python",
   "name": "python3"
  },
  "language_info": {
   "codemirror_mode": {
    "name": "ipython",
    "version": 3
   },
   "file_extension": ".py",
   "mimetype": "text/x-python",
   "name": "python",
   "nbconvert_exporter": "python",
   "pygments_lexer": "ipython3",
   "version": "3.6.5"
  }
 },
 "nbformat": 4,
 "nbformat_minor": 4
}
